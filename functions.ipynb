{
 "cells": [
  {
   "cell_type": "code",
   "execution_count": 3,
   "id": "5bdf97bd",
   "metadata": {},
   "outputs": [],
   "source": [
    "# A list of my grades.\n",
    "my_grades = ['B', 'C', 'B' , 'D']"
   ]
  },
  {
   "cell_type": "code",
   "execution_count": 4,
   "id": "c3e23a1e",
   "metadata": {},
   "outputs": [
    {
     "data": {
      "text/plain": [
       "0    B\n",
       "1    C\n",
       "2    B\n",
       "3    D\n",
       "dtype: object"
      ]
     },
     "execution_count": 4,
     "metadata": {},
     "output_type": "execute_result"
    }
   ],
   "source": [
    "# Import pandas.\n",
    "import pandas as pd\n",
    "# Convert the my_grades to a Series\n",
    "my_grades = pd.Series(my_grades)\n",
    "my_grades"
   ]
  },
  {
   "cell_type": "code",
   "execution_count": 9,
   "id": "247c3e4c",
   "metadata": {},
   "outputs": [
    {
     "data": {
      "text/plain": [
       "0    92.34\n",
       "1    84.56\n",
       "2    86.78\n",
       "3    78.32\n",
       "dtype: float64"
      ]
     },
     "execution_count": 9,
     "metadata": {},
     "output_type": "execute_result"
    }
   ],
   "source": [
    " # Convert the numerical grades to a Series.\n",
    "my_grades = pd.Series([92.34, 84.56, 86.78, 78.32])\n",
    "my_grades"
   ]
  },
  {
   "cell_type": "code",
   "execution_count": 10,
   "id": "7ff23407",
   "metadata": {},
   "outputs": [
    {
     "data": {
      "text/plain": [
       "0    92\n",
       "1    85\n",
       "2    87\n",
       "3    78\n",
       "dtype: object"
      ]
     },
     "execution_count": 10,
     "metadata": {},
     "output_type": "execute_result"
    }
   ],
   "source": [
    "# Format the grades to the nearest whole number percent.\n",
    "my_grades.map(\"{:.0f}\".format)"
   ]
  },
  {
   "cell_type": "code",
   "execution_count": null,
   "id": "69acf458",
   "metadata": {},
   "outputs": [],
   "source": []
  }
 ],
 "metadata": {
  "kernelspec": {
   "display_name": "PythonData",
   "language": "python",
   "name": "pythondata"
  },
  "language_info": {
   "codemirror_mode": {
    "name": "ipython",
    "version": 3
   },
   "file_extension": ".py",
   "mimetype": "text/x-python",
   "name": "python",
   "nbconvert_exporter": "python",
   "pygments_lexer": "ipython3",
   "version": "3.9.12"
  }
 },
 "nbformat": 4,
 "nbformat_minor": 5
}
